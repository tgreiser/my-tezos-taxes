{
 "cells": [
  {
   "cell_type": "code",
   "execution_count": 1,
   "metadata": {},
   "outputs": [],
   "source": [
    "import requests\n",
    "from taxUtils import *"
   ]
  },
  {
   "cell_type": "code",
   "execution_count": 2,
   "metadata": {},
   "outputs": [],
   "source": [
    "tokens = {\n",
    "#    \"QuipuSwap crDAO\": \"KT1FHiJmJUgZMPtv5F8M4ZEa6cb1D9Lf758T\",\n",
    "#    \"QuipuSwap CRUNCH\": \"KT1RRgK6eXvCWCiEGWhRZCSVGzhDzwXEEjS4\",\n",
    "#    \"QuipuSwap fDAO\": \"KT1BweorZK1CJDEu76SyKcxfzeiAxip73Kot\",\n",
    "#    \"QuipuSwap FLAME\": \"KT1Q93ftAUzvfMGPwC78nX8eouL1VzmHPd4d\",\n",
    "#    \"QuipuSwap GSAL\": \"KT1BzNUUjURkTtNhXFkbGtu9fY3Q5scKZrvK\",\n",
    "#    \"QuipuSwap GUTS\": \"KT1GaR1CmFoTTjqRwYSE8WdpBuxuviKGbcqs\",\n",
    "#    \"QuipuSwap hDAO old\": \"KT1Qm3urGqkRsWsovGzNb2R81c3dSfxpteHG\",\n",
    "    \"QuipuSwap HEH\": \"KT1BgezWwHBxA9NrczwK9x3zfgFnUkc7JJ4b\",\n",
    "    \"QuipuSwap HERA\": \"KT1DgbAE84xno2wdaEgeYpZkFZMs5fskAgP7\",\n",
    "    \"QuipuSwap hDAO\": \"KT1QxLqukyfohPV5kPkw97Rs6cw1DDDvYgbB\",\n",
    "    \"QuipuSwap hrDAO\": \"KT1PiXcVdqgsaYnkQ7KAec9skLRMtmDcsnMy\",\n",
    "    \"QuipuSwap kDAO\": \"KT1NEa7CmaLaWgHNi6LkRi5Z1f4oHfdzRdGA\",\n",
    "    \"QuipuSwap kUSD\": \"KT1K4EwTpbvYN9agJdjpyJm4ZZdhpUNKB3F6\",\n",
    "    \"QuipuSwap PAUL\": \"KT1K8A8DLUTVuHaDBCZiG6AJdvKJbtH8dqmN\",\n",
    "    \"QuipuSwap PLENTY\": \"KT1X1LgNkQShpF9nRLYw3Dgdy4qp38MX617z\",\n",
    "    \"QuipuSwap PURPLE\": \"KT1CgUDhiEQute6BxcgeSbZj3FiG2ZbdQC6B\",\n",
    "    \"QuipuSwap QUIPU\": \"KT1X3zxdTzPB9DgVzA3ad6dgZe9JEamoaeRy\",\n",
    "    \"QuipuSwap REGI\": \"KT1SpB8Jk6GPCWUjMod8Q5NDpfagQaXVSpNk\",\n",
    "    \"QuipuSwap RCKT\": \"KT1B7NqoQQkALYPS9fdxrcjGMQST6Wv4yy3h\",\n",
    "    \"QuipuSwap sDAO\": \"KT1PrRTVNgxkRgyqqNQvwTiVhd55dqyxXJ6n\",\n",
    "    \"QuipuSwap SHR\": \"KT1EMkmDUTy623xQRwR3Q2ZNCXK6mCmBadak\",\n",
    "    \"QuipuSwap SEB\": \"KT1S4WyNiYPoYheihysddNh5hojNFdiVBwZL\",\n",
    "    \"QuipuSwap SPI\": \"KT1Eg2QesN1tCzScTrvoeKm5W67GgjV32McR\",\n",
    "    \"QuipuSwap STKR\": \"KT1BMEEPX7MWzwwadW3NCSZe9XGmFJ7rs7Dr\",\n",
    "    \"QuipuSwap TZD\": \"KT1ERmjYo3hotAFmegVCJ2EAgUmc7RtXyV87\",\n",
    "    \"QuipuSwap WRAP\": \"KT1FG63hhFtMEEEtmBSX2vuFmP87t9E7Ab4t\",\n",
    "    \"QuipuSwap WTZ\": \"KT1W3VGRUjvS869r4ror8kdaxqJAZUbPyjMT\",\n",
    "    \"QuipuSwap wAAVE\": \"KT1Lvtxpg4MiT2Bs38XGxwh3LGi5MkCENp4v\",\n",
    "    \"QuipuSwap wBUSD\": \"KT1UMAE2PBskeQayP5f2ZbGiVYF7h8bZ2gyp\",\n",
    "    \"QuipuSwap wCOMP\": \"KT1DA8NH6UqCiSZhEg5KboxosMqLghwwvmTe\",\n",
    "    \"QuipuSwap wDAI\": \"KT1PQ8TMzGMfViRq4tCMFKD2QF5zwJnY67Xn\",\n",
    "    \"QuipuSwap wHT\": \"KT1GsTjbWkTgtsWenM6oWuTuft3Qb46p2x4c\",\n",
    "    \"QuipuSwap wHUSD\": \"KT1AN7BBmeSUN5eDDQLEhWmXv1gn4exc5k8R\",\n",
    "    \"QuipuSwap wLINK\": \"KT1Lpysr4nzcFegC9ci9kjoqVidwoanEmJWt\",\n",
    "    \"QuipuSwap wMATIC\": \"KT1RsfuBee5o7GtYrdB7bzQ1M6oVgyBnxY4S\",\n",
    "    \"QuipuSwap wPAX\": \"KT1Ca5FGSeFLH3ugstc5p56gJDMPeraBcDqE\",\n",
    "    \"QuipuSwap wSUSHI\": \"KT1Lotcahh85kp878JCEc1TjetZ2EgqB24vA\",\n",
    "    \"QuipuSwap wUNI\": \"KT1Ti3nJT85vNn81Dy5VyNzgufkAorUoZ96q\",\n",
    "    \"QuipuSwap wUSDC\": \"KT1U2hs5eNdeCpHouAvQXGMzGFGJowbhjqmo\",\n",
    "    \"QuipuSwap wUSDT\": \"KT1T4pfr6NL8dUiz8ibesjEvH2Ne3k6AuXgn\",\n",
    "    \"QuipuSwap uUSD\": \"KT1EtjRRCBC2exyCRXz8UfV7jz7svnkqi7di\",\n",
    "    \"QuipuSwap wWBTC\": \"KT1DksKXvCBJN7Mw6frGj6y6F3CbABWZVpj1\",\n",
    "    \"QuipuSwap wWETH\": \"KT1DuYujxrmgepwSDHtADthhKBje9BosUs1w\",\n",
    "}"
   ]
  },
  {
   "cell_type": "code",
   "execution_count": 3,
   "metadata": {},
   "outputs": [],
   "source": [
    "for key in tokens:\n",
    "    #print(\"Lookup %s\" % key)\n",
    "    tok = lookup_token_from_quipu_pool(tokens[key], key)\n",
    "    tok = lookup_token_metadata(tok)\n",
    "    print(tok)\n",
    "    "
   ]
  },
  {
   "cell_type": "code",
   "execution_count": null,
   "metadata": {},
   "outputs": [],
   "source": []
  }
 ],
 "metadata": {
  "kernelspec": {
   "display_name": "Python 3",
   "language": "python",
   "name": "python3"
  },
  "language_info": {
   "codemirror_mode": {
    "name": "ipython",
    "version": 3
   },
   "file_extension": ".py",
   "mimetype": "text/x-python",
   "name": "python",
   "nbconvert_exporter": "python",
   "pygments_lexer": "ipython3",
   "version": "3.7.4"
  }
 },
 "nbformat": 4,
 "nbformat_minor": 5
}
